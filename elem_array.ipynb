{
  "nbformat": 4,
  "nbformat_minor": 0,
  "metadata": {
    "colab": {
      "provenance": []
    },
    "kernelspec": {
      "name": "python3",
      "display_name": "Python 3"
    },
    "language_info": {
      "name": "python"
    }
  },
  "cells": [
    {
      "cell_type": "markdown",
      "source": [
        "Taller No. 1\n",
        "\n",
        "1. Representar una matriz de 3x3 como un array de 9 elementos."
      ],
      "metadata": {
        "id": "qRDN9hdiBqLJ"
      }
    },
    {
      "cell_type": "code",
      "source": [
        "from array import array\n",
        "\n",
        "# Crear un array de 9 elementos\n",
        "f = array('f', [1, 2, 3, 4, 5, 6, 7, 8, 9])\n",
        "\n",
        "# Imprimir la matriz 3x3\n",
        "print(\"Matriz 3x3 como array de 9 elementos:\")\n",
        "for i in range(3):\n",
        "    for j in range(3):\n",
        "        print(f[i * 3 + j], end=\" \")\n",
        "    print()"
      ],
      "metadata": {
        "colab": {
          "base_uri": "https://localhost:8080/"
        },
        "id": "WQl50JimB7Jk",
        "outputId": "f6ee4953-7c1a-4e16-93bf-42f82a1f71ca"
      },
      "execution_count": 4,
      "outputs": [
        {
          "output_type": "stream",
          "name": "stdout",
          "text": [
            "Matriz 3x3 como un solo array de 9 elementos:\n",
            "1.0 2.0 3.0 \n",
            "4.0 5.0 6.0 \n",
            "7.0 8.0 9.0 \n"
          ]
        }
      ]
    },
    {
      "cell_type": "markdown",
      "source": [
        "Visto de otra manera:"
      ],
      "metadata": {
        "id": "iF9Z900-e-BB"
      }
    },
    {
      "cell_type": "code",
      "source": [
        "from array import array\n",
        "\n",
        "# Crear un array de 9 elementos\n",
        "f = array('f', [1, 2, 3, 4, 5, 6, 7, 8, 9])\n",
        "\n",
        "# Crear una cadena con los elementos en formato de matriz 3x3\n",
        "cadena_matriz = \"[\" + \" \".join(map(str, f)) + \"]\"\n",
        "\n",
        "# Imprimir la cadena\n",
        "print(\"Matriz 3x3 como array de 9 elementos:\")\n",
        "print(cadena_matriz)"
      ],
      "metadata": {
        "id": "DxN9cjm2e7fT"
      },
      "execution_count": null,
      "outputs": []
    },
    {
      "cell_type": "markdown",
      "source": [
        "2. Hacer la función con ChatGPT:\n",
        "\n",
        "    def elem(A,i, j):\n",
        "    \n",
        "    #obtener el elemento i, j del array A como si fuera una matriz de 3x3"
      ],
      "metadata": {
        "id": "vTBd7FaSOHLE"
      }
    },
    {
      "cell_type": "code",
      "source": [
        "from array import array\n",
        "\n",
        "# Definir la función elem\n",
        "def elem(A, i, j):\n",
        "    if i < 0 or i >= 3 or j < 0 or j >= 3:\n",
        "        raise ValueError(\"Los índices están fuera de los límites de la matriz 3x3\")\n",
        "    return A[i * 3 + j]\n",
        "\n",
        "# Crear un array de 9 elementos\n",
        "A = array('i', [1, 2, 3, 4, 5, 6, 7, 8, 9])\n",
        "\n",
        "# Obtener el elemento en la posición (1, 2) de la matriz 3x3\n",
        "elemento = elem(A, 1, 2)\n",
        "\n",
        "# Imprimir el resultado\n",
        "print(\"Elemento en la posición (1, 2):\", elemento)\n"
      ],
      "metadata": {
        "colab": {
          "base_uri": "https://localhost:8080/"
        },
        "id": "2xU8epGXPTx8",
        "outputId": "948084d1-d24c-4f64-a9f6-156e04e6fddf"
      },
      "execution_count": 5,
      "outputs": [
        {
          "output_type": "stream",
          "name": "stdout",
          "text": [
            "Elemento en la posición (1, 2): 6\n"
          ]
        }
      ]
    },
    {
      "cell_type": "markdown",
      "source": [
        "3. Con o sin ChatGPT hacer las operaciones elementales entre renglones.\n",
        "\n",
        "a. Cambiar de renglones:"
      ],
      "metadata": {
        "id": "TeYVgrWLVWZc"
      }
    },
    {
      "cell_type": "code",
      "source": [
        "from array import array\n",
        "\n",
        "# Crear un array de 9 elementos\n",
        "matriz = array('i', [1, 2, 3, 4, 5, 6, 7, 8, 9])\n",
        "\n",
        "# Realizar la operación elemental: cambiar renglones\n",
        "# Por ejemplo, cambiaremos el segundo y tercer renglón\n",
        "matriz[3:6], matriz[6:9] = matriz[6:9], matriz[3:6]\n",
        "\n",
        "# Visualizar la matriz como 3x3 en una sola línea\n",
        "print(\"Matriz 3x3:\")\n",
        "print('[' + ' '.join(map(str, matriz)) + ']')\n"
      ],
      "metadata": {
        "colab": {
          "base_uri": "https://localhost:8080/"
        },
        "id": "UUCWTFcFVnNL",
        "outputId": "3dc26f7c-e39c-4a3c-815f-ba5b58b93b0f"
      },
      "execution_count": 10,
      "outputs": [
        {
          "output_type": "stream",
          "name": "stdout",
          "text": [
            "Matriz 3x3:\n",
            "[1 2 3 7 8 9 4 5 6]\n"
          ]
        }
      ]
    },
    {
      "cell_type": "markdown",
      "source": [
        "b. Multiplicar un renglón por un número."
      ],
      "metadata": {
        "id": "EobjwM2Lc4Hd"
      }
    },
    {
      "cell_type": "code",
      "source": [
        "from array import array\n",
        "\n",
        "# Crear un array de 9 elementos\n",
        "matriz = array('f', [1, 2, 3, 4, 5, 6, 7, 8, 9])\n",
        "\n",
        "# Definir el número por el cual multiplicar el renglón\n",
        "numero = 2\n",
        "\n",
        "# Realizar la operación elemental: Multiplicar un renglón por un número\n",
        "# Por ejemplo, multiplicaremos el segundo renglón por el número 2\n",
        "for i in range(3):\n",
        "    fila = array('f', matriz[i * 3:i * 3 + 3])  # Extraer la fila como un nuevo array\n",
        "    fila = array('f', [elemento * numero for elemento in fila])  # Multiplicar los elementos por el número\n",
        "    matriz[i * 3:i * 3 + 3] = fila  # Asignar la fila modificada de vuelta al array original\n",
        "\n",
        "# Imprimir la matriz 3x3 como un solo array de 9 elementos\n",
        "print(\"Matriz 3x3 como array de 9 elementos:\")\n",
        "print(\"[\" + \" \".join(map(str, matriz)) + \"]\")\n",
        "\n"
      ],
      "metadata": {
        "colab": {
          "base_uri": "https://localhost:8080/"
        },
        "id": "VeTBLU0sc_pi",
        "outputId": "8bb790bc-8004-4d75-ead8-9f5131b84064"
      },
      "execution_count": 14,
      "outputs": [
        {
          "output_type": "stream",
          "name": "stdout",
          "text": [
            "Matriz 3x3 como un solo array de 9 elementos:\n",
            "[2.0 4.0 6.0 8.0 10.0 12.0 14.0 16.0 18.0]\n"
          ]
        }
      ]
    },
    {
      "cell_type": "markdown",
      "source": [
        "c. Sumar renglones."
      ],
      "metadata": {
        "id": "lVfFcl0Fhq1n"
      }
    },
    {
      "cell_type": "code",
      "source": [
        "from array import array\n",
        "\n",
        "# Crear un array de 9 elementos\n",
        "matriz = array('f', [1, 2, 3, 4, 5, 6, 7, 8, 9])\n",
        "\n",
        "# Definir el número de los renglones a sumar\n",
        "renglon_a_sumar = 0  # Por ejemplo, sumar el primer renglón al segundo renglón\n",
        "renglon_a_modificar = 1\n",
        "\n",
        "# Realizar la operación elemental: Sumar un renglón al otro\n",
        "for i in range(3):\n",
        "    matriz[renglon_a_modificar * 3 + i] += matriz[renglon_a_sumar * 3 + i]\n",
        "\n",
        "# Imprimir la matriz 3x3 como array de 9 elementos\n",
        "print(\"Matriz 3x3 como array de 9 elementos:\")\n",
        "print(\"[\" + \" \".join(map(str, matriz)) + \"]\")\n"
      ],
      "metadata": {
        "colab": {
          "base_uri": "https://localhost:8080/"
        },
        "id": "U3AoLHCZhu-b",
        "outputId": "b0632d9a-6d3e-4aa2-b38e-03203be032df"
      },
      "execution_count": 15,
      "outputs": [
        {
          "output_type": "stream",
          "name": "stdout",
          "text": [
            "Matriz 3x3 como un solo array de 9 elementos:\n",
            "[1.0 2.0 3.0 5.0 7.0 9.0 7.0 8.0 9.0]\n"
          ]
        }
      ]
    },
    {
      "cell_type": "markdown",
      "source": [
        "4. Comprobar con un ejemplo que las funciones elementales están bien.\n",
        "\n",
        "a. Cambiar renglones."
      ],
      "metadata": {
        "id": "lqKkS_jYh87l"
      }
    },
    {
      "cell_type": "code",
      "source": [
        "from array import array\n",
        "\n",
        "# Crear un array de 9 elementos\n",
        "f = array('f', [1, 2, 3, 4, 5, 6, 7, 8, 9])\n",
        "\n",
        "# Realizar la operación elemental: Cambiar el segundo y tercer renglón\n",
        "f[3:6], f[6:9] = f[6:9], f[3:6]\n",
        "\n",
        "# Crear una cadena con los elementos en formato de matriz 3x3\n",
        "cadena_matriz = \"[\" + \" \".join(map(str, f)) + \"]\"\n",
        "\n",
        "# Imprimir la matriz 3x3 como array de 9 elementos\n",
        "print(\"Matriz 3x3 como array de 9 elementos después de cambiar el segundo y tercer renglón:\")\n",
        "print(cadena_matriz)\n"
      ],
      "metadata": {
        "colab": {
          "base_uri": "https://localhost:8080/"
        },
        "id": "dyYanJ18ixGq",
        "outputId": "b988d941-5670-4fce-b019-25c1d415d368"
      },
      "execution_count": 16,
      "outputs": [
        {
          "output_type": "stream",
          "name": "stdout",
          "text": [
            "Matriz 3x3 como array de 9 elementos después de cambiar el segundo y tercer renglón:\n",
            "[1.0 2.0 3.0 7.0 8.0 9.0 4.0 5.0 6.0]\n"
          ]
        }
      ]
    },
    {
      "cell_type": "markdown",
      "source": [
        "b. Multiplicar un renglón por un número."
      ],
      "metadata": {
        "id": "59L0XoPUjwdZ"
      }
    },
    {
      "cell_type": "code",
      "source": [
        "from array import array\n",
        "\n",
        "# Crear un array de 9 elementos\n",
        "matriz = array('f', [1, 2, 3, 4, 5, 6, 7, 8, 9])\n",
        "\n",
        "# Definir el número por el cual multiplicar el renglón\n",
        "numero = 3\n",
        "\n",
        "# Realizar la operación elemental: Multiplicar un renglón por un número\n",
        "# Por ejemplo, multiplicaremos el tercer renglón por el número 3\n",
        "fila = array('f', matriz[6:])  # Extraer el tercer renglón como un nuevo array\n",
        "fila = array('f', [elemento * numero for elemento in fila])  # Multiplicar los elementos por el número\n",
        "matriz[6:] = fila  # Asignar el tercer renglón modificado de vuelta al array original\n",
        "\n",
        "# Imprimir la matriz 3x3 como array de 9 elementos\n",
        "print(\"Matriz 3x3 array de 9 elementos después de multiplicar el tercer renglón por 3:\")\n",
        "print(\"[\" + \" \".join(map(str, matriz)) + \"]\")\n"
      ],
      "metadata": {
        "colab": {
          "base_uri": "https://localhost:8080/"
        },
        "id": "d5birK0kjzje",
        "outputId": "03c46ffa-f50d-4b9c-b364-6a3b9ade95b1"
      },
      "execution_count": 17,
      "outputs": [
        {
          "output_type": "stream",
          "name": "stdout",
          "text": [
            "Matriz 3x3 como un solo array de 9 elementos después de multiplicar el tercer renglón por 3:\n",
            "[1.0 2.0 3.0 4.0 5.0 6.0 21.0 24.0 27.0]\n"
          ]
        }
      ]
    },
    {
      "cell_type": "markdown",
      "source": [
        "c. Sumar renglones."
      ],
      "metadata": {
        "id": "t9vOCRejkX3l"
      }
    },
    {
      "cell_type": "code",
      "source": [
        "from array import array\n",
        "\n",
        "# Crear un array de 9 elementos\n",
        "matriz = array('f', [1, 2, 3, 4, 5, 6, 7, 8, 9])\n",
        "\n",
        "# Definir el número de los renglones a sumar\n",
        "renglon_a_sumar = 2  # Sumar el tercer renglón\n",
        "renglon_a_modificar = 0  # Sumar al primer renglón\n",
        "\n",
        "# Realizar la operación elemental: Sumar un renglón al otro\n",
        "for i in range(3):\n",
        "    matriz[renglon_a_modificar * 3 + i] += matriz[renglon_a_sumar * 3 + i]\n",
        "\n",
        "# Imprimir la matriz 3x3 como array de 9 elementos\n",
        "print(\"Matriz 3x3 como array de 9 elementos después de sumar el tercer renglón al primer renglón:\")\n",
        "print(\"[\" + \" \".join(map(str, matriz)) + \"]\")\n"
      ],
      "metadata": {
        "colab": {
          "base_uri": "https://localhost:8080/"
        },
        "id": "HxTiW5KDkawY",
        "outputId": "174cb901-b3e5-4e3c-d019-f3d1f5e815c9"
      },
      "execution_count": 18,
      "outputs": [
        {
          "output_type": "stream",
          "name": "stdout",
          "text": [
            "Matriz 3x3 como array de 9 elementos después de sumar el tercer renglón al primer renglón:\n",
            "[8.0 10.0 12.0 4.0 5.0 6.0 7.0 8.0 9.0]\n"
          ]
        }
      ]
    }
  ]
}